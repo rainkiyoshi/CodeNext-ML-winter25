{
  "nbformat": 4,
  "nbformat_minor": 0,
  "metadata": {
    "colab": {
      "provenance": [],
      "include_colab_link": true
    },
    "kernelspec": {
      "name": "python3",
      "display_name": "Python 3"
    },
    "language_info": {
      "name": "python"
    }
  },
  "cells": [
    {
      "cell_type": "markdown",
      "metadata": {
        "id": "view-in-github",
        "colab_type": "text"
      },
      "source": [
        "<a href=\"https://colab.research.google.com/github/rainkiyoshi/CodeNext-ML-winter25/blob/main/QuickDrawStarter.ipynb\" target=\"_parent\"><img src=\"https://colab.research.google.com/assets/colab-badge.svg\" alt=\"Open In Colab\"/></a>"
      ]
    },
    {
      "cell_type": "markdown",
      "source": [
        "# Quick, Draw! and Colab ✍️\n",
        "\n",
        "Welcome to Python and Colab! Python is a versatile and high-level programming language known for its readability and simplicity. In Colab, you can import Python libraries, which are pre-written code that perform certain tasks. This saves us a lot of time and effort. In this activity you will use the Pandas and Matplotlib libraries to examine a set of data on sketches from the Google Quick, Draw! data set"
      ],
      "metadata": {
        "id": "T73PAp7DDB4M"
      }
    },
    {
      "cell_type": "markdown",
      "source": [
        "## Step 1: Copy data from Quick, Draw! dataset 💻\n",
        "\n",
        "Choose one of the two datasets (airplane ✈️ or cat 😺) below to copy over this colab. You will be downloading it from Google Cloud storage to this Colab.\n",
        "\n",
        "For your chosen dataset, delete the hashtag in front of the command to comment in the code so it runs. You can also use the keyboard shortcut **command ?** (Mac) or **control ?** (Windows) to comment code in and out.\n",
        "\n",
        "Run the cell by clicking the play button"
      ],
      "metadata": {
        "id": "0mwym6toDapw"
      }
    },
    {
      "cell_type": "code",
      "execution_count": null,
      "metadata": {
        "colab": {
          "base_uri": "https://localhost:8080/"
        },
        "collapsed": true,
        "id": "8PiSVq5T8xma",
        "outputId": "f7bcc057-fb8e-4222-e7f7-5653e66270b8"
      },
      "outputs": [
        {
          "output_type": "stream",
          "name": "stdout",
          "text": [
            "Copying gs://quickdraw_dataset/full/simplified/cat.ndjson...\n",
            "\\ [1 files][ 73.1 MiB/ 73.1 MiB]                                                \n",
            "Operation completed over 1 objects/73.1 MiB.                                     \n"
          ]
        }
      ],
      "source": [
        "# use the gsutil to download the dataset from the google cloud storage\n",
        "\n",
        "# Dataset 1: Airplane\n",
        "# !gsutil cp gs://quickdraw_dataset/full/simplified/airplane.ndjson .\n",
        "\n",
        "# Dataset 2: Cat\n",
        "# !gsutil cp gs://quickdraw_dataset/full/simplified/cat.ndjson .\n",
        "\n",
        "# After running this cell, click on the file icon on the left to see that the\n",
        "# file was copied over successfully"
      ]
    },
    {
      "cell_type": "markdown",
      "source": [
        "## Step 2: Import Pandas and create a DataFrame 🐼\n",
        "\n",
        "In the Pandas library, a DataFrame is a 2D, tabular data structure with rows and columns. Think of it like a spreadsheet or a table in a relational database. It's a powerful tool for data manipulation and analysis."
      ],
      "metadata": {
        "id": "Eea7CtRXFAkA"
      }
    },
    {
      "cell_type": "code",
      "source": [
        "# Add the import statement for the Python Pandas module, using the alias pd:\n",
        "\n",
        "\n",
        "\n",
        "# Use the pandas read_json function to create a dataframe from the data\n",
        "data = pd.read_json('ADD YOUR DATASET FILE NAME HERE', lines=True)"
      ],
      "metadata": {
        "id": "UvMba5MPDAzx"
      },
      "execution_count": null,
      "outputs": []
    },
    {
      "cell_type": "markdown",
      "source": [
        "## Step 3: Explore the data with Pandas 🔍\n",
        "\n",
        "Now it's time to explore the data with Pandas methods! Here are three methods you can try out:\n",
        "\n",
        "* head() - To view the first few rows of the dataset.\n",
        "* info() - To understand the data types and missing values.\n",
        "* describe() -  To get summary statistics of numerical features.\n",
        "\n",
        "You can use **dot notation** to call these methods on a dataframe. In the previous cell, we created a dataframe called data, so using a Pandas method on data would look like:\n",
        "\n",
        "\n",
        "```\n",
        "data.head()\n",
        "```\n",
        "\n",
        "In this case, this method will display the first five rows of data. Try it out!"
      ],
      "metadata": {
        "id": "R_6RttaYG6Q1"
      }
    },
    {
      "cell_type": "code",
      "source": [
        "# Use the head() method to view the first five rows of data\n"
      ],
      "metadata": {
        "id": "MmqZUE5-H_ED"
      },
      "execution_count": null,
      "outputs": []
    },
    {
      "cell_type": "code",
      "source": [
        "# Use the info() method to get a summary of the dataframe\n"
      ],
      "metadata": {
        "id": "wh6LIncGI0K8"
      },
      "execution_count": null,
      "outputs": []
    },
    {
      "cell_type": "code",
      "source": [
        "# Use the describe() method to get a description of the data in the dataframe\n"
      ],
      "metadata": {
        "id": "YpBViujyI8D2"
      },
      "execution_count": null,
      "outputs": []
    },
    {
      "cell_type": "markdown",
      "source": [
        "## Step 4: Use Matplotlib to Plot Data 📊"
      ],
      "metadata": {
        "id": "ZtVDjWW2Jjav"
      }
    },
    {
      "cell_type": "code",
      "source": [
        "# Add the import statement for the Matplotlib pyplot, using the alias plt:\n",
        "\n",
        "\n",
        "\n",
        "# Uncomment the code below to see how many items are in the dataframe\n",
        "# len() is a function that returns the number of items in an object\n",
        "# print(\"Length of dataset: \", len(data))\n",
        "\n"
      ],
      "metadata": {
        "id": "yj-jswvCJrEh"
      },
      "execution_count": null,
      "outputs": []
    },
    {
      "cell_type": "markdown",
      "source": [
        "### Plot a sketch 🎨"
      ],
      "metadata": {
        "id": "4k6YFHQkSefE"
      }
    },
    {
      "cell_type": "code",
      "source": [
        "# This is a function that will plot a drawing from the data\n",
        "def plot_drawing(drawing):\n",
        "    for stroke in drawing:\n",
        "        x, y = stroke\n",
        "        plt.plot(x, y, marker='o')\n",
        "    plt.axis('off')\n",
        "    plt.show()\n",
        "\n",
        "# Uncomment the next line of code to get the data for the first drawing\n",
        "# in the set and store in a variable - 0 is the first item in the list of data\n",
        "# first_drawing = data.drawing.iloc[0]\n",
        "\n",
        "# Uncomment the next line of code to render the first drawing\n",
        "# plot_drawing(first_drawing)"
      ],
      "metadata": {
        "id": "GdCShUyCR62d"
      },
      "execution_count": null,
      "outputs": []
    },
    {
      "cell_type": "markdown",
      "source": [
        "### Plot more sketches!"
      ],
      "metadata": {
        "id": "rJX4O8cLRIv_"
      }
    },
    {
      "cell_type": "code",
      "source": [
        "# Using the same format as above, plot the second drawing in the dataset\n",
        "# Remember that computers count list items beginning 0\n",
        "\n",
        "# Get the data for the second drawing and store in a variable\n",
        "\n",
        "\n",
        "# Render the second drawing using the plot_drawing function\n"
      ],
      "metadata": {
        "id": "dj5nbRRxQCfo"
      },
      "execution_count": null,
      "outputs": []
    },
    {
      "cell_type": "code",
      "source": [
        "# Plot another sketch from the dataset - play around with different list\n",
        "# indices to see different sketches from the dataframe! You determined the\n",
        "# length of the dataset in an earlier cell, so there are many datapoints to\n",
        "# choose from!\n",
        "\n",
        "# Store the data in a variable\n",
        "\n",
        "\n",
        "# Render the drawing!\n"
      ],
      "metadata": {
        "id": "uVlW5PqERPSy"
      },
      "execution_count": null,
      "outputs": []
    },
    {
      "cell_type": "markdown",
      "source": [
        "### Extension Ideas\n",
        "* Revisit the Quick, Draw! data in Google Cloud and explore the other sketch collections. Bring in a third dataset of your choosing!\n",
        "* Look up documentation on the Python random module to see how you might generate random sketches from the data collection\n",
        "* Prompt Gemini to discover other ways you can analyze the Quick, Draw! data"
      ],
      "metadata": {
        "id": "Z0wpox80cSrt"
      }
    }
  ]
}
